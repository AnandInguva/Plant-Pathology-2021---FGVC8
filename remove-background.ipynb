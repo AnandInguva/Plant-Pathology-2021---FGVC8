{
 "cells": [
  {
   "cell_type": "code",
   "execution_count": 1,
   "metadata": {
    "_cell_guid": "b1076dfc-b9ad-4769-8c92-a6c4dae69d19",
    "_uuid": "8f2839f25d086af736a60e9eeb907d3b93b6e0e5",
    "execution": {
     "iopub.execute_input": "2021-04-02T15:04:00.566642Z",
     "iopub.status.busy": "2021-04-02T15:04:00.565416Z",
     "iopub.status.idle": "2021-04-02T15:04:00.570509Z",
     "shell.execute_reply": "2021-04-02T15:04:00.569750Z"
    },
    "papermill": {
     "duration": 0.015898,
     "end_time": "2021-04-02T15:04:00.570709",
     "exception": false,
     "start_time": "2021-04-02T15:04:00.554811",
     "status": "completed"
    },
    "tags": []
   },
   "outputs": [],
   "source": [
    "# # This Python 3 environment comes with many helpful analytics libraries installed\n",
    "# # It is defined by the kaggle/python Docker image: https://github.com/kaggle/docker-python\n",
    "# # For example, here's several helpful packages to load\n",
    "\n",
    "# import numpy as np # linear algebra\n",
    "# import pandas as pd # data processing, CSV file I/O (e.g. pd.read_csv)\n",
    "\n",
    "# # Input data files are available in the read-only \"../input/\" directory\n",
    "# # For example, running this (by clicking run or pressing Shift+Enter) will list all files under the input directory\n",
    "\n",
    "# import os\n",
    "# for dirname, _, filenames in os.walk('/kaggle/input'):\n",
    "#     for filename in filenames:\n",
    "#         print(os.path.join(dirname, filename))\n",
    "\n",
    "# # You can write up to 20GB to the current directory (/kaggle/working/) that gets preserved as output when you create a version using \"Save & Run All\" \n",
    "# # You can also write temporary files to /kaggle/temp/, but they won't be saved outside of the current session"
   ]
  },
  {
   "cell_type": "code",
   "execution_count": 3,
   "metadata": {
    "execution": {
     "iopub.execute_input": "2021-04-02T15:04:00.588473Z",
     "iopub.status.busy": "2021-04-02T15:04:00.587821Z",
     "iopub.status.idle": "2021-04-02T15:04:00.829298Z",
     "shell.execute_reply": "2021-04-02T15:04:00.829826Z"
    },
    "papermill": {
     "duration": 0.253046,
     "end_time": "2021-04-02T15:04:00.830020",
     "exception": false,
     "start_time": "2021-04-02T15:04:00.576974",
     "status": "completed"
    },
    "tags": []
   },
   "outputs": [
    {
     "name": "stderr",
     "output_type": "stream",
     "text": [
      "C:\\Users\\Anand\\anaconda3\\lib\\site-packages\\tqdm\\std.py:697: FutureWarning: The Panel class is removed from pandas. Accessing it from the top-level namespace will also be removed in the next version\n",
      "  from pandas import Panel\n"
     ]
    }
   ],
   "source": [
    "import numpy as np\n",
    "import pandas as pd\n",
    "import cv2\n",
    "from tqdm import tqdm\n",
    "tqdm.pandas()\n",
    "import matplotlib.pyplot as plt\n",
    "from mpl_toolkits.axes_grid1 import ImageGrid\n",
    "import collections\n",
    "import os"
   ]
  },
  {
   "cell_type": "code",
   "execution_count": 5,
   "metadata": {
    "execution": {
     "iopub.execute_input": "2021-04-02T15:04:00.846518Z",
     "iopub.status.busy": "2021-04-02T15:04:00.845862Z",
     "iopub.status.idle": "2021-04-02T15:04:00.850676Z",
     "shell.execute_reply": "2021-04-02T15:04:00.850138Z"
    },
    "papermill": {
     "duration": 0.014884,
     "end_time": "2021-04-02T15:04:00.850822",
     "exception": false,
     "start_time": "2021-04-02T15:04:00.835938",
     "status": "completed"
    },
    "tags": []
   },
   "outputs": [],
   "source": [
    "IMAGE_PATH = '../data/img_sz_512/'\n",
    "csv_path = '../data/train.csv'"
   ]
  },
  {
   "cell_type": "code",
   "execution_count": 12,
   "metadata": {
    "execution": {
     "iopub.execute_input": "2021-04-02T15:04:00.879984Z",
     "iopub.status.busy": "2021-04-02T15:04:00.879123Z",
     "iopub.status.idle": "2021-04-02T15:04:00.924056Z",
     "shell.execute_reply": "2021-04-02T15:04:00.924672Z"
    },
    "papermill": {
     "duration": 0.067965,
     "end_time": "2021-04-02T15:04:00.924907",
     "exception": false,
     "start_time": "2021-04-02T15:04:00.856942",
     "status": "completed"
    },
    "tags": []
   },
   "outputs": [],
   "source": [
    "df = pd.read_csv(csv_path)\n",
    "\n",
    "def load_image(image_path):\n",
    "    image = cv2.imread(image_path, cv2.IMREAD_UNCHANGED)\n",
    "    return cv2.cvtColor(image, cv2.COLOR_BGR2RGB)\n",
    "\n",
    "def init_grabcut_mask(h, w):\n",
    "    mask = np.ones((h, w), np.uint8) * cv2.GC_PR_BGD\n",
    "    mask[h//4:3*h//4, w//4:3*w//4] = cv2.GC_PR_FGD\n",
    "    mask[2*h//5:3*h//5, 2*w//5:3*w//5] = cv2.GC_FGD\n",
    "    return mask\n",
    "\n",
    "def add_contours(image, mask):\n",
    "    contours, _ = cv2.findContours(mask, cv2.RETR_EXTERNAL, cv2.CHAIN_APPROX_NONE)\n",
    "    \n",
    "    if len(contours) != 0:\n",
    "        cv2.drawContours(image, contours, -1, (255, 0, 0), 3)\n",
    "        c = max(contours, key = cv2.contourArea)\n",
    "        x,y,w,h = cv2.boundingRect(c)\n",
    "        cv2.rectangle(image, (x, y), (x+w, y+h), (0, 255, 0) ,2)\n",
    "        \n",
    "def remove_background(image):\n",
    "    h, w = image.shape[:2]\n",
    "    mask = init_grabcut_mask(h, w)\n",
    "    bgm = np.zeros((1, 65), np.float64)\n",
    "    fgm = np.zeros((1, 65), np.float64)\n",
    "    cv2.grabCut(image, mask, None, bgm, fgm, 1, cv2.GC_INIT_WITH_MASK)\n",
    "    mask_binary = np.where((mask == 2) | (mask == 0), 0, 1).astype('uint8')\n",
    "    result = cv2.bitwise_and(image, image, mask = mask_binary)\n",
    "#     add_contours(result, mask_binary) # optional, adds visualizations\n",
    "    return result\n",
    "\n",
    "def image_resize(image, width = None, height = None, inter = cv2.INTER_AREA):\n",
    "    # initialize the dimensions of the image to be resized and\n",
    "    # grab the image size\n",
    "    dim = None\n",
    "    (h, w) = image.shape[:2]\n",
    "\n",
    "    # if both the width and height are None, then return the\n",
    "    # original image\n",
    "    if width is None and height is None:\n",
    "        return image\n",
    "\n",
    "    # check to see if the width is None\n",
    "    if width is None:\n",
    "        # calculate the ratio of the height and construct the\n",
    "        # dimensions\n",
    "        r = height / float(h)\n",
    "        dim = (int(w * r), height)\n",
    "\n",
    "    # otherwise, the height is None\n",
    "    else:\n",
    "        # calculate the ratio of the width and construct the\n",
    "        # dimensions\n",
    "        r = width / float(w)\n",
    "        dim = (width, int(h * r))\n",
    "\n",
    "    # resize the image\n",
    "    resized = cv2.resize(image, dim, interpolation = inter)\n",
    "\n",
    "    # return the resized image\n",
    "    return resized"
   ]
  },
  {
   "cell_type": "code",
   "execution_count": 7,
   "metadata": {},
   "outputs": [
    {
     "data": {
      "text/html": [
       "<div>\n",
       "<style scoped>\n",
       "    .dataframe tbody tr th:only-of-type {\n",
       "        vertical-align: middle;\n",
       "    }\n",
       "\n",
       "    .dataframe tbody tr th {\n",
       "        vertical-align: top;\n",
       "    }\n",
       "\n",
       "    .dataframe thead th {\n",
       "        text-align: right;\n",
       "    }\n",
       "</style>\n",
       "<table border=\"1\" class=\"dataframe\">\n",
       "  <thead>\n",
       "    <tr style=\"text-align: right;\">\n",
       "      <th></th>\n",
       "      <th>image</th>\n",
       "      <th>labels</th>\n",
       "    </tr>\n",
       "  </thead>\n",
       "  <tbody>\n",
       "    <tr>\n",
       "      <th>0</th>\n",
       "      <td>800113bb65efe69e.jpg</td>\n",
       "      <td>healthy</td>\n",
       "    </tr>\n",
       "    <tr>\n",
       "      <th>1</th>\n",
       "      <td>8002cb321f8bfcdf.jpg</td>\n",
       "      <td>scab frog_eye_leaf_spot complex</td>\n",
       "    </tr>\n",
       "    <tr>\n",
       "      <th>2</th>\n",
       "      <td>80070f7fb5e2ccaa.jpg</td>\n",
       "      <td>scab</td>\n",
       "    </tr>\n",
       "    <tr>\n",
       "      <th>3</th>\n",
       "      <td>80077517781fb94f.jpg</td>\n",
       "      <td>scab</td>\n",
       "    </tr>\n",
       "    <tr>\n",
       "      <th>4</th>\n",
       "      <td>800cbf0ff87721f8.jpg</td>\n",
       "      <td>complex</td>\n",
       "    </tr>\n",
       "  </tbody>\n",
       "</table>\n",
       "</div>"
      ],
      "text/plain": [
       "                  image                           labels\n",
       "0  800113bb65efe69e.jpg                          healthy\n",
       "1  8002cb321f8bfcdf.jpg  scab frog_eye_leaf_spot complex\n",
       "2  80070f7fb5e2ccaa.jpg                             scab\n",
       "3  80077517781fb94f.jpg                             scab\n",
       "4  800cbf0ff87721f8.jpg                          complex"
      ]
     },
     "execution_count": 7,
     "metadata": {},
     "output_type": "execute_result"
    }
   ],
   "source": [
    "df.head()"
   ]
  },
  {
   "cell_type": "code",
   "execution_count": 13,
   "metadata": {
    "execution": {
     "iopub.execute_input": "2021-04-02T15:04:00.940051Z",
     "iopub.status.busy": "2021-04-02T15:04:00.939431Z",
     "iopub.status.idle": "2021-04-02T15:04:00.946079Z",
     "shell.execute_reply": "2021-04-02T15:04:00.945521Z"
    },
    "papermill": {
     "duration": 0.015111,
     "end_time": "2021-04-02T15:04:00.946226",
     "exception": false,
     "start_time": "2021-04-02T15:04:00.931115",
     "status": "completed"
    },
    "tags": []
   },
   "outputs": [],
   "source": [
    "# if not os.path.exists('resized_images'):\n",
    "#     os.makedirs('resized_images')\n",
    "#     os.makedirs('resized_images/resized_256')\n",
    "#     os.makedirs('resized_images/resized_512')\n",
    "#     os.makedirs('resized_images/resized_1024')\n",
    "    \n",
    "# if not os.path.exists('preprocessed_images'):\n",
    "#     os.makedirs('preprocessed_images')\n",
    "#     os.makedirs('preprocessed_images/preprocessed_images_256')\n",
    "#     os.makedirs('preprocessed_images/preprocessed_images_512')\n",
    "#     os.makedirs('preprocessed_images/preprocessed_images_1024')\n",
    "\n",
    "if not os.path.exists('../data/preprocessed_images_512'):\n",
    "    os.makedirs('../data/preprocessed_images_512')"
   ]
  },
  {
   "cell_type": "code",
   "execution_count": 17,
   "metadata": {
    "execution": {
     "iopub.execute_input": "2021-04-02T15:04:00.977105Z",
     "iopub.status.busy": "2021-04-02T15:04:00.976394Z",
     "iopub.status.idle": "2021-04-02T18:28:28.908218Z",
     "shell.execute_reply": "2021-04-02T18:28:28.908949Z"
    },
    "papermill": {
     "duration": 12267.95675,
     "end_time": "2021-04-02T18:28:28.909245",
     "exception": false,
     "start_time": "2021-04-02T15:04:00.952495",
     "status": "completed"
    },
    "tags": []
   },
   "outputs": [
    {
     "name": "stderr",
     "output_type": "stream",
     "text": [
      "100%|██████████| 18632/18632 [6:02:15<00:00,  1.17s/it]  \n"
     ]
    }
   ],
   "source": [
    "train_filenames = [os.path.join(IMAGE_PATH, fname) for fname in df['image'].tolist()]\n",
    "\n",
    "for i in tqdm(range(len(train_filenames))):\n",
    "    fname = train_filenames[i]\n",
    "    img_orig = plt.imread(fname)\n",
    "    \n",
    "    #############################\n",
    "    for h in [512]:\n",
    "        img_name = fname.split('/')[-1]\n",
    "        img = image_resize(img_orig, height=h)\n",
    "        img_preprocessed = remove_background(img)\n",
    "#         cv2.imwrite(os.path.join('resized_images/resized_{}'.format(h), img_name), img)\n",
    "#         cv2.imwrite(os.path.join('preprocessed_images/preprocessed_images_{}'.format(h), img_name), img_preprocessed)\n",
    "        cv2.imwrite(os.path.join('../data/preprocessed_images_512', img_name), cv2.cvtColor(img_preprocessed, cv2.COLOR_BGR2RGB))\n",
    "    \n"
   ]
  }
 ],
 "metadata": {
  "kernelspec": {
   "display_name": "Python 3",
   "language": "python",
   "name": "python3"
  },
  "language_info": {
   "codemirror_mode": {
    "name": "ipython",
    "version": 3
   },
   "file_extension": ".py",
   "mimetype": "text/x-python",
   "name": "python",
   "nbconvert_exporter": "python",
   "pygments_lexer": "ipython3",
   "version": "3.8.5"
  },
  "papermill": {
   "default_parameters": {},
   "duration": 12281.554331,
   "end_time": "2021-04-02T18:28:35.650554",
   "environment_variables": {},
   "exception": null,
   "input_path": "__notebook__.ipynb",
   "output_path": "__notebook__.ipynb",
   "parameters": {},
   "start_time": "2021-04-02T15:03:54.096223",
   "version": "2.3.2"
  }
 },
 "nbformat": 4,
 "nbformat_minor": 5
}
